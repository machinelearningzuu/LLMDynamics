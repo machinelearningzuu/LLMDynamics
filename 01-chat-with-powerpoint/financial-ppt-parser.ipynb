{
 "cells": [
  {
   "cell_type": "code",
   "execution_count": 5,
   "metadata": {},
   "outputs": [],
   "source": [
    "import os, nest_asyncio\n",
    "os.chdir(\"/Users/1zuu/Desktop/LLM RESEARCH 2024/RAGDynamics\")\n",
    "from llama_index.core import VectorStoreIndex, SimpleDirectoryReader\n",
    "from llama_parse import LlamaParse\n",
    "from configure_llm import *\n",
    "nest_asyncio.apply()"
   ]
  },
  {
   "cell_type": "code",
   "execution_count": 2,
   "metadata": {},
   "outputs": [
    {
     "name": "stdout",
     "output_type": "stream",
     "text": [
      "--2024-03-16 11:38:01--  https://meetings.wmo.int/Cg-19/PublishingImages/SitePages/FINAC-43/7%20-%20EC-77-Doc%205%20Financial%20Statements%20for%202022%20(FINAC).pptx\n",
      "Resolving meetings.wmo.int (meetings.wmo.int)... 195.55.64.242\n",
      "Connecting to meetings.wmo.int (meetings.wmo.int)|195.55.64.242|:443... connected.\n",
      "HTTP request sent, awaiting response... 200 OK\n",
      "Length: 820828 (802K) [application/vnd.openxmlformats-officedocument.presentationml.presentation]\n",
      "Saving to: ‘data/01/presentation.pptx’\n",
      "\n",
      "data/01/presentatio 100%[===================>] 801.59K   384KB/s    in 2.1s    \n",
      "\n",
      "2024-03-16 11:38:04 (384 KB/s) - ‘data/01/presentation.pptx’ saved [820828/820828]\n",
      "\n"
     ]
    }
   ],
   "source": [
    "!wget \"https://meetings.wmo.int/Cg-19/PublishingImages/SitePages/FINAC-43/7%20-%20EC-77-Doc%205%20Financial%20Statements%20for%202022%20(FINAC).pptx\" -O data/01/presentation.pptx"
   ]
  },
  {
   "cell_type": "markdown",
   "metadata": {},
   "source": [
    "# Data Parser"
   ]
  },
  {
   "cell_type": "markdown",
   "metadata": {},
   "source": [
    "### 01. Default Parser"
   ]
  },
  {
   "cell_type": "code",
   "execution_count": 3,
   "metadata": {},
   "outputs": [
    {
     "name": "stderr",
     "output_type": "stream",
     "text": [
      "/Users/1zuu/miniforge3/envs/llm/lib/python3.10/site-packages/transformers/models/vit/feature_extraction_vit.py:28: FutureWarning: The class ViTFeatureExtractor is deprecated and will be removed in version 5 of Transformers. Please use ViTImageProcessor instead.\n",
      "  warnings.warn(\n",
      "We strongly recommend passing in an `attention_mask` since your input_ids may be padded. See https://huggingface.co/docs/transformers/troubleshooting#incorrect-output-when-padding-tokens-arent-masked.\n",
      "You may ignore this warning if your `pad_token_id` (50256) is identical to the `bos_token_id` (50256), `eos_token_id` (50256), or the `sep_token_id` (None), and your input is not padded.\n"
     ]
    },
    {
     "data": {
      "text/plain": [
       "[Document(id_='8bd9e478-815f-4411-bd09-a0dc1d1118ff', embedding=None, metadata={'file_path': 'data/01/presentation.pptx', 'file_name': 'presentation.pptx', 'file_type': 'application/vnd.openxmlformats-officedocument.presentationml.presentation', 'file_size': 820828, 'creation_date': '2024-03-16', 'last_modified_date': '2023-05-18', 'last_accessed_date': '2024-03-16'}, excluded_embed_metadata_keys=['file_name', 'file_type', 'file_size', 'creation_date', 'last_modified_date', 'last_accessed_date'], excluded_llm_metadata_keys=['file_name', 'file_type', 'file_size', 'creation_date', 'last_modified_date', 'last_accessed_date'], relationships={}, text='\\n\\nSlide #0: \\nFinancial Statements for 2022\\x0b\\nFINAC-43\\n20 May 2023\\nEC-77/Doc 5 and EC-77/INF 5(1)\\n\\n\\nSlide #1: \\nAgenda\\nHighlights of 2022\\nDetails of 2022 elements\\nDraft Resolutions\\n2\\n5/18/2023\\n\\n\\nSlide #2: \\nHighlights of 2022\\x0b\\x0b”A Return to the New Normal”\\x0b\\n\\n\\n\\nSlide #3: \\nHighlights of 2022 – Comparing 2022 to 2021\\n4\\n5/18/2023\\n\\n Image: a large red and white cake with flowers on it\\n\\n\\n\\nSlide #4: \\nHighlights of 2022 – Comparing 2022 to 2021\\n5\\n5/18/2023\\n\\n Image: a painting of a girl riding a skateboard\\n\\n\\n\\nSlide #5: \\nHighlights of 2022 – Comparing 2022 to 2021\\n6\\n5/18/2023\\n\\n Image: a green street sign on top of a pole\\n\\n\\n\\nSlide #6: \\nHighlights of 2022 – Comparing 2022 to 2021\\n7\\n5/18/2023\\n\\n Image: a pair of scissors sitting on top of a book\\n\\n\\n\\nSlide #7: \\nHighlights of 2022 – Comparing 2022 to 2021\\n8\\n5/18/2023\\n\\n Image: a pair of scissors sitting on top of a book\\n\\n\\n\\nSlide #8: \\nHighlights of 2022 – Comparing 2022 to 2021\\n9\\n5/18/2023\\n\\n Image: a collage of photographs of a person holding a ribbon\\n\\n\\n\\nSlide #9: \\nOverall Analysis of 2022\\nStatement of Financial Performance\\n\\n\\nSlide #10: \\nRevenues\\n11\\n5/18/2023\\n(in 000’s of CHF)\\n\\n\\n\\nSlide #11: \\nRevenues\\nConsistent level of Assessed Contributions revenue due to annual split of biennial budget\\nVoluntary contribution revenue increased as a result of reduced COVID-19 pandemic restrictions on implementation and increased overall level of contributions for climate adaptation and mitigation.\\nRevenue from services decreased as the main agreement for providing services completed in 2021.\\nPrimary change in other revenue was driven by foreign exchange losses  experienced in 2022\\xa0due to strengthening of CHF as compared to USD. Other elements remained consistent (e.g. rental of office facilities)\\n12\\n5/18/2023\\n\\n\\nSlide #12: \\nExpenses\\n13\\n5/18/2023\\n\\x0b\\n\\n(in 000’s of CHF)\\n\\n\\nSlide #13: \\nExpenses\\nSalaries and employee benefits increased primarily due to:\\nIncrease in professional staff costs totalling approximately CHF 5.5 million resulting from most of the completion of the hiring of technical staff following the Secretariat reorganization that was begun in 2020. \\nOverall additional expense of CHF 1.4 million for the hiring of short-term staff to cover illnesses and to fill, in the short-term, staff positions during the recruitment of fixed term staff.\\nMeetings and Projects expenditure and Travel expenditure increased due to overall implementation increases resulting from the reduction of COVID-19 pandemic related restrictions. Under the General Fund, constituent body and related meetings began again from mid-2022 with more face-to-face sessions.\\n\\n14\\n5/18/2023\\n\\n\\nSlide #14: \\nOverall Analysis of 2022\\nStatement of Financial Position\\n\\n\\nSlide #15: \\nAssets\\n16\\n5/18/2023\\n\\x0b\\n(in 000’s of CHF)\\n\\n\\n\\nSlide #16: \\nAssets\\nCash and Investments increased due to increased in voluntary contribution activity, primarily related to deferred revenue on cash received\\nAssessed contributions increased primarily due to the continued non-payment of some Members. Seeing good payment activity in the first half of 2023 leading up to Congress and related elections\\nVoluntary contributions receivable increased due to overall higher levels of contributions to WMO supporting Early Warnings and other areas such as capacity development and climate adaptation and mitigation\\n17\\n5/18/2023\\nAdd a footer\\n\\n\\nSlide #17: \\nLiabilities\\n18\\n5/18/2023\\n\\x0b\\n(in 000’s of CHF)\\n\\n\\n\\n\\n\\nSlide #18: \\nLiabilities\\nEmployee Benefit Liabilities increased as a result of\\nChange in medical cost estimation assumption from premium based to claim based\\nChange in certain financial assumptions, primarily higher discount rate due to global interest rate increases\\nContributions received in advance (assessed contributions) decreased significantly in 2022; however, those traditional advance payments were received in Q1 2023, so no real financial impact\\nDeferred revenue increased significantly due to increased level of new contributions, many of which are multi-year in nature\\n19\\n5/18/2023\\n\\n\\nSlide #19: \\nOverall Net Assets By Fund\\n20\\n5/18/2023\\nAdd a footer\\n\\x0b\\nOverall WMO and General Fund Group went into a net negative asset position in 2022 resulting from the increase in the net actuarial loss on employee benefit liabilities.\\nVoluntary contribution fund groups’ net asset positions remained generally consistent with a small decrease resulting from the net deficit experienced during 2022.\\n(in 000’s of CHF)\\n\\n\\n\\nSlide #20: \\nDraft Executive Council Resolution\\nNoting the unqualified audit opinion of the External Auditor on the Financial Statements,\\nNoting also that the Secretary-General has taken action to implement the external auditor recommendations that were open during 2022 and that additional external audit recommendations were identified during 2022,\\nApproves the audited financial statements for the World Meteorological Organization for the year 2022 (see document EC-77/INF.\\xa05(1));\\nRequests the Secretary-General to:\\nTransmit the financial statements together with his report and the report of the External Auditor thereon to all Members of the World Meteorological Organization;\\nContinue to report progress on the implementation of the management action plan related to External Auditor recommendations to the Audit and Oversight Committee and the Executive Council; and\\n\\n\\n21\\n5/18/2023\\n\\n\\nSlide #21: \\nFINAC Recommendation\\n22\\n5/18/2023\\nRecommendation 8:\\n\\n“That the Executive Council adopts draft Resolution 5/1 (EC-77) – Financial Statements of the World Meteorological Organization for the year 2022”\\n', start_char_idx=None, end_char_idx=None, text_template='{metadata_str}\\n\\n{content}', metadata_template='{key}: {value}', metadata_seperator='\\n')]"
      ]
     },
     "execution_count": 3,
     "metadata": {},
     "output_type": "execute_result"
    }
   ],
   "source": [
    "vanilla_documents = SimpleDirectoryReader(\"./data/01\").load_data()\n",
    "vanilla_documents"
   ]
  },
  {
   "cell_type": "markdown",
   "metadata": {},
   "source": [
    "### 02. With Llama Parser"
   ]
  },
  {
   "cell_type": "code",
   "execution_count": 4,
   "metadata": {},
   "outputs": [
    {
     "name": "stdout",
     "output_type": "stream",
     "text": [
      "Started parsing the file under job_id 058d84fc-0723-464d-bd58-42e91d9303aa\n"
     ]
    }
   ],
   "source": [
    "llama_parse_documents = LlamaParse(result_type=\"markdown\").load_data(\"./data/01/presentation.pptx\")"
   ]
  },
  {
   "cell_type": "markdown",
   "metadata": {},
   "source": [
    "# Compare RAG"
   ]
  },
  {
   "cell_type": "markdown",
   "metadata": {},
   "source": [
    "### 01. Vanilla Indexing"
   ]
  },
  {
   "cell_type": "code",
   "execution_count": 6,
   "metadata": {},
   "outputs": [],
   "source": [
    "vanilla_index = VectorStoreIndex.from_documents(vanilla_documents)\n",
    "vanilla_query_engine = vanilla_index.as_query_engine()"
   ]
  },
  {
   "cell_type": "markdown",
   "metadata": {},
   "source": [
    "### 02. LLama Parser Indexing"
   ]
  },
  {
   "cell_type": "code",
   "execution_count": 7,
   "metadata": {},
   "outputs": [],
   "source": [
    "llama_parse_index = VectorStoreIndex.from_documents(llama_parse_documents)\n",
    "llama_parse_query_engine = llama_parse_index.as_query_engine()"
   ]
  },
  {
   "cell_type": "markdown",
   "metadata": {},
   "source": [
    "# Results"
   ]
  },
  {
   "cell_type": "code",
   "execution_count": 8,
   "metadata": {},
   "outputs": [
    {
     "name": "stdout",
     "output_type": "stream",
     "text": [
      "The provided context does not include specific figures for the liability provision as of December 31, 2021.\n"
     ]
    }
   ],
   "source": [
    "vanilla_response = vanilla_query_engine.query(\"What was the liability provision as of Dec 31 2021?\")\n",
    "print(vanilla_response)"
   ]
  },
  {
   "cell_type": "code",
   "execution_count": 9,
   "metadata": {},
   "outputs": [
    {
     "name": "stdout",
     "output_type": "stream",
     "text": [
      "The liability provision as of December 31, 2021, was 1,910.\n"
     ]
    }
   ],
   "source": [
    "llama_parse_response = llama_parse_query_engine.query(\"What was the liability provision as of Dec 31 2021?\")\n",
    "print(llama_parse_response)"
   ]
  }
 ],
 "metadata": {
  "kernelspec": {
   "display_name": "llm",
   "language": "python",
   "name": "python3"
  },
  "language_info": {
   "codemirror_mode": {
    "name": "ipython",
    "version": 3
   },
   "file_extension": ".py",
   "mimetype": "text/x-python",
   "name": "python",
   "nbconvert_exporter": "python",
   "pygments_lexer": "ipython3",
   "version": "3.10.13"
  }
 },
 "nbformat": 4,
 "nbformat_minor": 2
}
